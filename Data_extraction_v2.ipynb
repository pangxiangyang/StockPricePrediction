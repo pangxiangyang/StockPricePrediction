{
  "nbformat": 4,
  "nbformat_minor": 0,
  "metadata": {
    "colab": {
      "name": "Data extraction_v2.ipynb",
      "provenance": [],
      "collapsed_sections": [],
      "toc_visible": true,
      "include_colab_link": true
    },
    "kernelspec": {
      "name": "python3",
      "display_name": "Python 3"
    }
  },
  "cells": [
    {
      "cell_type": "markdown",
      "metadata": {
        "id": "view-in-github",
        "colab_type": "text"
      },
      "source": [
        "<a href=\"https://colab.research.google.com/github/pangxiangyang/StockPricePrediction/blob/master/Data_extraction_v2.ipynb\" target=\"_parent\"><img src=\"https://colab.research.google.com/assets/colab-badge.svg\" alt=\"Open In Colab\"/></a>"
      ]
    },
    {
      "cell_type": "code",
      "metadata": {
        "id": "MBn2JLvCbirB",
        "colab_type": "code",
        "outputId": "cfcc7972-7cee-4229-ee09-332e89bec7f0",
        "colab": {
          "base_uri": "https://localhost:8080/",
          "height": 34
        }
      },
      "source": [
        "inipath = \"/content/gdrive/My Drive/NewData\"\n",
        "\n",
        "files = []\n",
        "directories = []\n",
        "# r=root, d=directories, f = files\n",
        "for r, d, f in os.walk(inipath):\n",
        "    if( r.find(\".MY\") > -1 ):\n",
        "      directories.append(r)\n",
        "\n",
        "total = 0\n",
        "for folder in directories:\n",
        "  source_files= folder + '/*.zip';\n",
        "  filelist=glob.glob(source_files)\n",
        "  #print( folder, len( filelist) )\n",
        "  if(len(filelist)==28 ):\n",
        "    print(folder)\n",
        "  total = total+len(filelist);\n",
        "\n",
        "print( total)"
      ],
      "execution_count": 0,
      "outputs": [
        {
          "output_type": "stream",
          "text": [
            "6570\n"
          ],
          "name": "stdout"
        }
      ]
    },
    {
      "cell_type": "code",
      "metadata": {
        "id": "yV2F7-XBgNmq",
        "colab_type": "code",
        "colab": {}
      },
      "source": [
        "# Run following scripts to install chrome driver in new environment\n",
        "#!apt-get update # to update ubuntu to correctly run apt install\n",
        "#!apt install chromium-chromedriver\n",
        "#!cp /usr/lib/chromium-browser/chromedriver /usr/bin"
      ],
      "execution_count": 0,
      "outputs": []
    },
    {
      "cell_type": "code",
      "metadata": {
        "id": "8pykeLewRpYe",
        "colab_type": "code",
        "colab": {}
      },
      "source": [
        "def SeleniumSetup():\n",
        "  # Setup google selenium for web scraping\n",
        "  import sys\n",
        "  sys.path.insert(0,'/usr/lib/chromium-browser/chromedriver')"
      ],
      "execution_count": 0,
      "outputs": []
    },
    {
      "cell_type": "code",
      "metadata": {
        "id": "iyvjAJGyKw-B",
        "colab_type": "code",
        "colab": {}
      },
      "source": [
        "def ChromeSetup( isMobile = False ):\n",
        "  from selenium import webdriver\n",
        "  chrome_options = webdriver.ChromeOptions()\n",
        "  chrome_options.add_argument('--headless')\n",
        "  chrome_options.add_argument('--no-sandbox')\n",
        "  chrome_options.add_argument('--disable-dev-shm-usage')\n",
        "  if( isMobile ):\n",
        "    chrome_options.add_argument('--user-agent=\"Mozilla/5.0 (Windows Phone 10.0; Android 4.2.1; Microsoft; Lumia 640 XL LTE) AppleWebKit/537.36 (KHTML, like Gecko) Chrome/42.0.2311.135 Mobile Safari/537.36 Edge/12.10166\"')\n",
        "  driver =webdriver.Chrome('chromedriver',chrome_options=chrome_options)\n",
        "  return driver"
      ],
      "execution_count": 0,
      "outputs": []
    },
    {
      "cell_type": "code",
      "metadata": {
        "id": "tq8WPGvR4YuE",
        "colab_type": "code",
        "colab": {}
      },
      "source": [
        "def GoogleAuthentication():\n",
        "  # Google account authentication\n",
        "  from google.colab import auth\n",
        "  auth.authenticate_user()\n",
        "\n",
        "  import gspread\n",
        "  from oauth2client.client import GoogleCredentials\n",
        "\n",
        "  from google.colab import drive\n",
        "  drive.mount('/content/gdrive')\n",
        "\n",
        "  gc = gspread.authorize(GoogleCredentials.get_application_default())\n",
        "  return gc;"
      ],
      "execution_count": 0,
      "outputs": []
    },
    {
      "cell_type": "code",
      "metadata": {
        "id": "9VYy7LOh5XQu",
        "colab_type": "code",
        "colab": {}
      },
      "source": [
        "def GetGoogleSpreadSheet(gc):\n",
        "  # Get started with list of company\n",
        "  url = \"\"\n",
        "  spreadsheet = gc.open_by_url(url)\n",
        "  return spreadsheet"
      ],
      "execution_count": 0,
      "outputs": []
    },
    {
      "cell_type": "code",
      "metadata": {
        "id": "-WR3jmVxNvUq",
        "colab_type": "code",
        "colab": {}
      },
      "source": [
        "def GetCompanyList( spreadsheet ):\n",
        "  worksheet = spreadsheet.sheet1;\n",
        "  # get codes \n",
        "  numerical_codes = worksheet.range('B2:B950');\n",
        "  names           = worksheet.range('A2:A950');\n",
        "  isimportrequired = worksheet.range('C2:C950')\n",
        "\n",
        "  codes = []\n",
        "  for i in range( len( numerical_codes ) ):\n",
        "    if( isimportrequired[i].value == \"#N/A\" ):\n",
        "      codes.append( numerical_codes[i].value.strip() + \".MY\" )\n",
        "  return codes;"
      ],
      "execution_count": 0,
      "outputs": []
    },
    {
      "cell_type": "code",
      "metadata": {
        "id": "c9cryBk2RmhQ",
        "colab_type": "code",
        "colab": {}
      },
      "source": [
        "# Login into shareinvestors.com website\n",
        "def Login( driver ):\n",
        "  driver.get('http://www.shareinvestor.com/user/login.html');\n",
        "  driver.get_screenshot_as_file(\"fff.png\")\n",
        "  username_box = driver.find_element_by_id('sic_login_header_username')\n",
        "  username_box.send_keys('')\n",
        "\n",
        "  password_box = driver.find_element_by_id('sic_login_header_password')\n",
        "  password_box.send_keys('')\n",
        "  login_btn = driver.find_element_by_id('sic_login_submit')\n",
        "  login_btn.submit();\n",
        "  return driver;"
      ],
      "execution_count": 0,
      "outputs": []
    },
    {
      "cell_type": "code",
      "metadata": {
        "id": "rXxxOobWUuff",
        "colab_type": "code",
        "colab": {}
      },
      "source": [
        "def GetDateList( spreadsheet ):\n",
        "  # Get date\n",
        "  worksheet = spreadsheet.get_worksheet(1)\n",
        "  dates = worksheet.col_values(1)\n",
        "  return dates;"
      ],
      "execution_count": 0,
      "outputs": []
    },
    {
      "cell_type": "code",
      "metadata": {
        "id": "iogplUJkVjYe",
        "colab_type": "code",
        "colab": {}
      },
      "source": [
        "class DownloadAction:\n",
        "  def __init__(self, name, istest, isremovefile,url,sourcefile, targetfile, \n",
        "               codes, driver, date =[], companyrange=0, daterange=0, isadjust = False,\n",
        "               adjustmentlist ={} ):\n",
        "    self.url = url\n",
        "    self.Name         = name\n",
        "    self.CompanyRange = companyrange\n",
        "    self.DateRange    = daterange\n",
        "    self.IsTest       = istest\n",
        "    self.IsRemoveFile = isremovefile\n",
        "    self.SourceFile   = sourcefile;\n",
        "    self.TargetFile   = targetfile;\n",
        "    self.CompanyList  = codes;\n",
        "    self.Dates        = date;\n",
        "    self.Driver       = driver;\n",
        "    self.Codes        = codes;\n",
        "    self.IsAdjust     = isadjust\n",
        "    self.List         = adjustmentlist\n",
        "\n",
        "  def Download( self, driver ):\n",
        "      # Download historical data\n",
        "      try:\n",
        "        count = 1;\n",
        "        actualRange = self.GetCompanyRange()\n",
        "        codes = self.Codes\n",
        "        initialpath = self.TargetFile\n",
        "        for code in codes[0:actualRange]:\n",
        "          if( len( self.Dates ) == 0):#Normal download\n",
        "            action_url = self.url.replace(\"XXXX\", code)\n",
        "            print( count, action_url )\n",
        "            self.Execute(action_url);\n",
        "          else: # Daily transactional data download\n",
        "            # Create directory to store downloaded file\n",
        "            filepath = initialpath + code + \"/\"\n",
        "            if( not path.exists(filepath) ):\n",
        "              os.mkdir( filepath )\n",
        "            self.TargetFile = filepath;\n",
        "            print( count, filepath )\n",
        "            dates = self.Dates\n",
        "            timecount = 1;\n",
        "            actualDateRange = self.DateRange\n",
        "            if( self.DateRange == 0 ):\n",
        "              actualDateRange = len(self.Dates)\n",
        "            for tradedate in dates[0:actualDateRange]:\n",
        "              action_url = self.url.replace(\"XXXX\", code)\n",
        "              action_url = action_url.replace(\"yyyyyyyy\", tradedate );\n",
        "              print(timecount, action_url)\n",
        "              dictionary = self.List;\n",
        "              try:\n",
        "                if( self.IsAdjust ):\n",
        "                  requiredDates = dictionary[code];\n",
        "                  requiredDates.index(tradedate);\n",
        "                  self.Execute(action_url );\n",
        "                else:\n",
        "                  self.Execute(action_url);\n",
        "              except Exception as e:\n",
        "                print ( code, tradedate );\n",
        "                #self.Execute(action_url );\n",
        "              timecount = timecount + 1;\n",
        "          count = count + 1;\n",
        "      except Exception as e:\n",
        "        print( e )\n",
        "        self.MoveFiles();\n",
        "        SendEmail( str(e) )\n",
        "  \n",
        "  def MoveFiles( self ):# Copy source files to target files. \n",
        "      source_files = self.SourceFile\n",
        "      filepath = self.TargetFile\n",
        "      filelist=glob.glob(source_files)\n",
        "      for single_file in filelist:\n",
        "      # move file with full paths as shutil.move() parameters\n",
        "        print( single_file, filepath)\n",
        "        shutil.copy(single_file, filepath)\n",
        "        if(self.IsRemoveFile == True ):\n",
        "          os.remove(single_file)\n",
        "          \n",
        "  def Randomize( self):\n",
        "    import random\n",
        "    return random.randint(15,20)\n",
        "    \n",
        "  def GetCompanyRange(self):\n",
        "    actualRange = self.CompanyRange;\n",
        "    codes = self.Codes\n",
        "    print(len(codes), actualRange)\n",
        "    if( self.CompanyRange == 0 ):\n",
        "      actualRange = len(codes)\n",
        "    return actualRange\n",
        "\n",
        "  def Execute(self, action_url):\n",
        "    driver = self.Driver;\n",
        "    if( self.IsTest):\n",
        "      driver.get_screenshot_as_file( \"j.png\")\n",
        "    else:\n",
        "      driver.get(action_url)\n",
        "    sleepTime = self.Randomize()\n",
        "    time.sleep( sleepTime);  \n",
        "    self.MoveFiles();"
      ],
      "execution_count": 0,
      "outputs": []
    },
    {
      "cell_type": "code",
      "metadata": {
        "id": "qYF3XfIkOSOr",
        "colab_type": "code",
        "colab": {}
      },
      "source": [
        "def MoveFilestoFolder(source_files, target_folder, isRemoveSource):\n",
        "\n",
        "  #source_files= '/content/*.zip'\n",
        "  #target_folder= \"/content/gdrive/My Drive/Data/Data5\"\n",
        "\n",
        "  # retrieve file list\n",
        "  filelist=glob.glob(source_files)\n",
        "  for single_file in filelist:\n",
        "      # move file with full paths as shutil.move() parameters\n",
        "      #shutil.move(single_file,target_folder) \n",
        "      shutil.copy(single_file, target_folder)\n",
        "      if( isRemoveSource):\n",
        "        os.remove(single_file)"
      ],
      "execution_count": 0,
      "outputs": []
    },
    {
      "cell_type": "code",
      "metadata": {
        "id": "_5ADQgYubcSG",
        "colab_type": "code",
        "colab": {}
      },
      "source": [
        "def DownloadHistoricalData( codes,  startrange, endrange, sleepTime , isTest=False):\n",
        "  # Download historical data\n",
        "  count = 1;\n",
        "  for code in codes[startrange:endrange]:\n",
        "    action_url = historicalPrice_url.replace(\"XXXX\", code)\n",
        "    print( count, action_url )\n",
        "    \n",
        "    # For testing purpose only capture screenshot\n",
        "    if( isTest):\n",
        "      driver.get_screenshot_as_file('zz.png')\n",
        "    else:\n",
        "      driver.get(action_url)\n",
        "    time.sleep( sleepTime );\n",
        "    count = count + 1;"
      ],
      "execution_count": 0,
      "outputs": []
    },
    {
      "cell_type": "code",
      "metadata": {
        "id": "VRHdInn7e9oC",
        "colab_type": "code",
        "colab": {}
      },
      "source": [
        "def DownloadTransactionalData( codes,  dates, coderange, daterange, sleepTime, source_files, target_folder, isTest=False):\n",
        "#source_files= '/content/*.zip'\n",
        "#target_folder= \"/content/gdrive/My Drive/NewData/\"\n",
        "  count = 1;\n",
        "  for code in codes[0:coderange]:\n",
        "    timecount = 1;\n",
        "    # Create directory to store downloaded file\n",
        "    filepath = target_folder + code + \"/\"\n",
        "    if( not path.exists(filepath) ):\n",
        "      os.mkdir( filepath )\n",
        "\n",
        "    print( count, filepath )\n",
        "    count = count + 1;\n",
        "\n",
        "    for tradedate in dates[0:daterange]:\n",
        "      action_url = timeSales_url.replace(\"XXXX\", code)\n",
        "      action_url = action_url.replace(\"yyyyyyyy\", tradedate.value );\n",
        "      print(timecount, action_url)\n",
        "      if( isTest):\n",
        "        driver.get_screenshot_as_file( code + \"_\" + tradedate.value + \".png\")\n",
        "      else:\n",
        "        driver.get(action_url)\n",
        "      time.sleep(sleepTime)\n",
        "      timecount = timecount + 1;\n",
        "    \n",
        "    filelist=glob.glob(source_files)\n",
        "    print(len(filelist))\n",
        "    for single_file in filelist:\n",
        "      # move file with full paths as shutil.move() parameters\n",
        "      print( single_file, filepath)\n",
        "      shutil.copy(single_file, filepath)\n",
        "      os.remove(single_file)\n",
        "    "
      ],
      "execution_count": 0,
      "outputs": []
    },
    {
      "cell_type": "code",
      "metadata": {
        "id": "3QAp_mvlcmAx",
        "colab_type": "code",
        "colab": {}
      },
      "source": [
        "def SendEmail(errormsg):\n",
        "  import smtplib, ssl\n",
        "  import time;\n",
        "  from datetime import datetime\n",
        "  # Import the email modules we'll need\n",
        "  from email.message import EmailMessage\n",
        "\n",
        "  now = datetime.now()\n",
        "  port = 465  # For SSL\n",
        "  smtp_server = \"smtp.gmail.com\"\n",
        "  sender_email = \"\"  # Enter your address\n",
        "  receiver_email = \"\"  # Enter receiver address\n",
        "  password = \"\"\n",
        " \n",
        "  message = \"\"\"\\\n",
        "  Execution stopped at \"\"\" + str(now) + \" due to \" + errormsg + '.';\n",
        "\n",
        "  msg = EmailMessage();\n",
        "  msg['Subject'] = \"Data extraction status\"\n",
        "  msg['From'] = sender_email;\n",
        "  msg['To'] = receiver_email\n",
        "  msg.set_content( message )\n",
        "\n",
        "  context = ssl.create_default_context()\n",
        "  with smtplib.SMTP_SSL(smtp_server, port, context=context) as server:\n",
        "      server.login(sender_email, password)\n",
        "      #server.sendmail(sender_email, receiver_email, message)\n",
        "      server.send_message( msg )\n",
        "      "
      ],
      "execution_count": 0,
      "outputs": []
    },
    {
      "cell_type": "code",
      "metadata": {
        "id": "eUwLP-HEHaY0",
        "colab_type": "code",
        "colab": {}
      },
      "source": [
        "#inipath = \"/content/gdrive/My Drive/NewData\"\n",
        "def InspectTransactionalFile(inipath, dates):\n",
        "  files = []\n",
        "  directories = []\n",
        "  # r=root, d=directories, f = files\n",
        "  for r, d, f in os.walk(inipath):\n",
        "      if( r.find(\".MY\") > -1 ):\n",
        "        directories.append(r)\n",
        "\n",
        "  alldates = [];\n",
        "  for date in dates:\n",
        "    alldates.append(date)\n",
        "\n",
        "  items = {}\n",
        "  checkdates = ';'.join(alldates)\n",
        "  print(len( directories) )\n",
        "  for folder in directories:\n",
        "    source_files= folder + '/*.zip';\n",
        "    filelist=glob.glob(source_files)\n",
        "    print( folder, len(filelist) );\n",
        "    if(len(filelist) < len(dates)):\n",
        "      initial = inipath + \"/\"\n",
        "      downloadedFiles = list((dlfile for dlfile in filelist if dlfile.find(\".zip\") > - 1 ))\n",
        "      downloadedDates = list((filename[ len(filename) - 12: len(filename)-4] for filename in downloadedFiles))\n",
        "      requiredDates = [];\n",
        "      for date in alldates:\n",
        "        try:\n",
        "          downloadedDates.index(date)\n",
        "        except:\n",
        "          requiredDates.append(date)\n",
        "      name = folder[ len(initial):  len(folder)];\n",
        "      items[name] = requiredDates\n",
        "\n",
        "  return items;"
      ],
      "execution_count": 0,
      "outputs": []
    },
    {
      "cell_type": "code",
      "metadata": {
        "id": "SHylusgWy-Eg",
        "colab_type": "code",
        "colab": {}
      },
      "source": [
        "def AdjustData():\n",
        "  inipath = \"/content/gdrive/My Drive/NewData\"\n",
        "\n",
        "  files = []\n",
        "  directories = []\n",
        "  # r=root, d=directories, f = files\n",
        "  for r, d, f in os.walk(inipath):\n",
        "      if( r.find(\".MY\") > -1 ):\n",
        "        directories.append(r)\n",
        "\n",
        "  alldates = [];\n",
        "  for date in dates:\n",
        "    alldates.append(date)\n",
        "\n",
        "  #items = {}\n",
        "  checkdates = ';'.join(alldates)\n",
        "  for folder in directories:\n",
        "    source_files= folder + '/*.zip';\n",
        "    filelist=glob.glob(source_files)\n",
        "    #print( folder, len(filelist) );\n",
        "    if(len(filelist) > 1 ):\n",
        "      firstIndex = 56\n",
        "      secondIndex = filelist[0].find(\"_\", 56);\n",
        "      name = filelist[0][firstIndex:secondIndex];\n",
        "      if( len(name) > 0):\n",
        "        items[name] = folder\n",
        "          \n",
        "  for folder in directories:\n",
        "    source_files= folder + '/*.zip';\n",
        "    filelist=glob.glob(source_files)\n",
        "    if(len(filelist) > 1):\n",
        "      for dlfile in filelist:\n",
        "          secondIndex = dlfile.find(\"_\", 56);\n",
        "          name = dlfile[firstIndex:secondIndex];\n",
        "          try:\n",
        "            rightpath = items[name];\n",
        "            if(dlfile.find(rightpath) == -1):\n",
        "              print(rightpath, dlfile)\n",
        "          except:\n",
        "            print(\"F\")\n",
        "  for k,v in items.items():\n",
        "    print(k,v)"
      ],
      "execution_count": 0,
      "outputs": []
    },
    {
      "cell_type": "code",
      "metadata": {
        "id": "TRODy_KcMivC",
        "colab_type": "code",
        "colab": {}
      },
      "source": [
        "# Main execution block\n",
        "import random\n",
        "import time\n",
        "import glob\n",
        "import shutil\n",
        "import os\n",
        "import os.path\n",
        "from os import path\n",
        "\n",
        "# if (__name__ == \"__main__\"):\n",
        "#   # Parameter\n",
        "#   isMobile            = False\n",
        "#   historicalPrice_url = \"http://www.shareinvestor.com/prices/price_download_zip_file.zip?type=historical&counter=XXXX\"\n",
        "#   timeSales_url       = \"http://www.shareinvestor.com/prices/price_download_zip_file.zip?type=timesales&counter=XXXX&date=yyyyyyyy\"\n",
        "#   quoteMovement_url   = \"http://www.shareinvestor.com/prices/price_download_zip_file.zip?type=quotemovements&counter=XXXX&date=yyyyyyyy\"\n",
        "#   tradeSummary_url    = \"http://www.shareinvestor.com/prices/price_download_zip_file.zip?type=tsm&counter=XXXX&date=yyyyyyyy\"\n",
        "#   intraDay_url        = \"http://www.shareinvestor.com/prices/price_download_zip_file.zip?type=intraday&counter=XXXX\"\n",
        "#   sleepTime           = random.randint(15, 20);\n",
        "#   source_files= '/content/*.zip'\n",
        "#   target_folder= \"/content/gdrive/My Drive/Data/Data5\"\n",
        "#   ismobile = False;\n",
        "#   SeleniumSetup();\n",
        "#   gc = GoogleAuthentication();\n",
        "#   spreadsheet = GetGoogleSpreadSheet( gc );\n",
        "#   codes = GetCompanyList( spreadsheet );\n",
        "#   dates = GetDateList( spreadsheet );\n",
        "#   webdriver = ChromeSetup( ismobile);\n",
        "#   Login( webdriver )\n",
        "\n",
        "#   isremovefile = True;\n",
        "#   istest = True;\n",
        "#   downloadHistoricalData = DownloadAction(\"HistoricalData\", istest, isremovefile, historicalPrice_url, \n",
        "#                                           source_files, target_folder, codes, webdriver, sleepTime  );\n",
        "#   downloadIntraDayData = DownloadAction(\"IntraDayData\", istest, isremovefile, intraDay_url, \n",
        "#                                         source_files, target_folder, codes, webdriver, sleepTime  );\n",
        "#   downloadQuoteMovement = DownloadAction(\"QuoteMovement\", istest, isremovefile, quoteMovement_url, \n",
        "#                                         source_files, target_folder, codes, webdriver, sleepTime, dates   );\n",
        "\n",
        "\n",
        "  #downloadHistoricalData.Download( webdriver )"
      ],
      "execution_count": 0,
      "outputs": []
    },
    {
      "cell_type": "code",
      "metadata": {
        "id": "pfDVmtfQ-zNI",
        "colab_type": "code",
        "colab": {}
      },
      "source": [
        "#istest = False;\n",
        "import glob\n",
        "import shutil\n",
        "import os\n",
        "import os.path\n",
        "from os import path\n",
        "gc = GoogleAuthentication();\n",
        "spreadsheet = GetGoogleSpreadSheet( gc );\n",
        "allcodes = GetCompanyList( spreadsheet );\n",
        "dates = GetDateList( spreadsheet );\n",
        "#dv.Login( webdriver )\n",
        "inipath = \"/content/gdrive/My Drive/NewData\"\n",
        "adjlist = InspectTransactionalFile(inipath, dates)\n",
        "\n",
        "total = 0;\n",
        "for k,v in adjlist.items():\n",
        "  print(k, v)\n",
        "  total = total + len(v)\n",
        "\n",
        "totalrequired = 73 * 90\n",
        "print ( \"Total required    \", totalrequired )\n",
        "print ( \"Total pending    \" ,total );\n",
        "print ( \"Completion status \", round( ( (totalrequired - total ) / totalrequired ) * 100, 2 ) )"
      ],
      "execution_count": 0,
      "outputs": []
    }
  ]
}